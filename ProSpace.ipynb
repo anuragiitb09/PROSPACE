{
  "nbformat": 4,
  "nbformat_minor": 0,
  "metadata": {
    "colab": {
      "provenance": []
    },
    "kernelspec": {
      "name": "python3",
      "display_name": "Python 3"
    },
    "language_info": {
      "name": "python"
    }
  },
  "cells": [
    {
      "cell_type": "code",
      "execution_count": 1,
      "metadata": {
        "colab": {
          "base_uri": "https://localhost:8080/"
        },
        "id": "buJHvGBT9mis",
        "outputId": "a43f536e-fd71-45d5-f0fb-16ad4f03a894"
      },
      "outputs": [
        {
          "output_type": "stream",
          "name": "stderr",
          "text": [
            "\r[*********************100%%**********************]  1 of 1 completed"
          ]
        },
        {
          "output_type": "stream",
          "name": "stdout",
          "text": [
            "Data for Nifty Bank:\n",
            "                     Open          High           Low         Close  \\\n",
            "Date                                                                 \n",
            "2014-01-02  11383.799805  11578.900391  11150.200195  11183.200195   \n",
            "2014-01-03  11098.250000  11208.000000  11052.599609  11181.650391   \n",
            "2014-01-06  11174.349609  11174.349609  10996.950195  11049.049805   \n",
            "2014-01-07  11097.799805  11154.099609  10892.150391  11036.750000   \n",
            "2014-01-08  11071.750000  11122.750000  10988.799805  11053.700195   \n",
            "\n",
            "               Adj Close  Volume  \n",
            "Date                              \n",
            "2014-01-02  11183.070312   39900  \n",
            "2014-01-03  11181.520508   28200  \n",
            "2014-01-06  11048.920898   20500  \n",
            "2014-01-07  11036.622070   30300  \n",
            "2014-01-08  11053.571289   33400   \n",
            "\n",
            "         Date          Open          High           Low         Close  \\\n",
            "0  2014-01-02  11383.799805  11578.900391  11150.200195  11183.200195   \n",
            "1  2014-01-03  11098.250000  11208.000000  11052.599609  11181.650391   \n",
            "2  2014-01-06  11174.349609  11174.349609  10996.950195  11049.049805   \n",
            "3  2014-01-07  11097.799805  11154.099609  10892.150391  11036.750000   \n",
            "4  2014-01-08  11071.750000  11122.750000  10988.799805  11053.700195   \n",
            "\n",
            "      Adj Close  Volume  \n",
            "0  11183.070312   39900  \n",
            "1  11181.520508   28200  \n",
            "2  11048.920898   20500  \n",
            "3  11036.622070   30300  \n",
            "4  11053.571289   33400  \n"
          ]
        },
        {
          "output_type": "stream",
          "name": "stderr",
          "text": [
            "\n"
          ]
        }
      ],
      "source": [
        "import yfinance as yf\n",
        "import pandas as pd\n",
        "\n",
        "# Define the ticker symbol for Nifty Bank\n",
        "nifty_bank_ticker = '^NSEBANK'\n",
        "\n",
        "# Define the time period for historical data (last 10 years)\n",
        "start_date = '2014-01-01'\n",
        "end_date = '2024-01-01'\n",
        "\n",
        "try:\n",
        "    # Download data\n",
        "    df = yf.download(nifty_bank_ticker, start=start_date, end=end_date, period='1d')\n",
        "\n",
        "    # Check if data is available\n",
        "    if not df.empty:\n",
        "        # Save to CSV\n",
        "        filename = f\"Nifty_Bank_10yr_data.csv\"\n",
        "        df.to_csv(filename)\n",
        "\n",
        "        # Print the first few rows of the dataframe\n",
        "        print(f\"Data for Nifty Bank:\\n\", df.head(), \"\\n\")\n",
        "    else:\n",
        "        print(f\"No data found for Nifty Bank with ticker {nifty_bank_ticker}\")\n",
        "\n",
        "except yf.YFInvalidPeriodError as e:\n",
        "    print(f\"Invalid period error for {nifty_bank_ticker}: {e}\")\n",
        "\n",
        "except yf.YFTickerNotFoundError as e:\n",
        "    print(f\"Ticker {nifty_bank_ticker} not found: {e}\")\n",
        "\n",
        "except yf.YFTzMissingError as e:\n",
        "    print(f\"Timezone error for {nifty_bank_ticker}: {e}. Ticker might be delisted.\")\n",
        "\n",
        "except Exception as e:  # Catch any other unexpected errors\n",
        "    print(f\"Failed to download data for Nifty Bank with ticker {nifty_bank_ticker}: {e}\")\n",
        "\n",
        "# Example to show the dataframe for Nifty Bank\n",
        "try:\n",
        "    nifty_bank_data = pd.read_csv('Nifty_Bank_10yr_data.csv')\n",
        "    print(nifty_bank_data.head())\n",
        "except FileNotFoundError:\n",
        "    print(\"Nifty Bank data file not found. Data might not have been downloaded successfully.\")\n",
        "except Exception as e:\n",
        "    print(f\"An error occurred while reading Nifty Bank data: {e}\")\n"
      ]
    },
    {
      "cell_type": "code",
      "source": [
        "pip install wbdata --upgrade"
      ],
      "metadata": {
        "colab": {
          "base_uri": "https://localhost:8080/"
        },
        "id": "PzAv4JZa9r2Y",
        "outputId": "569b697a-c10d-414b-e641-c86915acf7e5"
      },
      "execution_count": 2,
      "outputs": [
        {
          "output_type": "stream",
          "name": "stdout",
          "text": [
            "Requirement already satisfied: wbdata in /usr/local/lib/python3.10/dist-packages (1.0.0)\n",
            "Requirement already satisfied: appdirs<2.0,>=1.4 in /usr/local/lib/python3.10/dist-packages (from wbdata) (1.4.4)\n",
            "Requirement already satisfied: backoff<3.0.0,>=2.2.1 in /usr/local/lib/python3.10/dist-packages (from wbdata) (2.2.1)\n",
            "Requirement already satisfied: cachetools<6.0.0,>=5.3.2 in /usr/local/lib/python3.10/dist-packages (from wbdata) (5.3.3)\n",
            "Requirement already satisfied: dateparser<2.0.0,>=1.2.0 in /usr/local/lib/python3.10/dist-packages (from wbdata) (1.2.0)\n",
            "Requirement already satisfied: decorator<6.0.0,>=5.1.1 in /usr/local/lib/python3.10/dist-packages (from wbdata) (5.1.1)\n",
            "Requirement already satisfied: requests<3.0,>=2.0 in /usr/local/lib/python3.10/dist-packages (from wbdata) (2.31.0)\n",
            "Requirement already satisfied: shelved-cache<0.4.0,>=0.3.1 in /usr/local/lib/python3.10/dist-packages (from wbdata) (0.3.1)\n",
            "Requirement already satisfied: tabulate<0.9.0,>=0.8.5 in /usr/local/lib/python3.10/dist-packages (from wbdata) (0.8.10)\n",
            "Requirement already satisfied: python-dateutil in /usr/local/lib/python3.10/dist-packages (from dateparser<2.0.0,>=1.2.0->wbdata) (2.8.2)\n",
            "Requirement already satisfied: pytz in /usr/local/lib/python3.10/dist-packages (from dateparser<2.0.0,>=1.2.0->wbdata) (2023.4)\n",
            "Requirement already satisfied: regex!=2019.02.19,!=2021.8.27 in /usr/local/lib/python3.10/dist-packages (from dateparser<2.0.0,>=1.2.0->wbdata) (2023.12.25)\n",
            "Requirement already satisfied: tzlocal in /usr/local/lib/python3.10/dist-packages (from dateparser<2.0.0,>=1.2.0->wbdata) (5.2)\n",
            "Requirement already satisfied: charset-normalizer<4,>=2 in /usr/local/lib/python3.10/dist-packages (from requests<3.0,>=2.0->wbdata) (3.3.2)\n",
            "Requirement already satisfied: idna<4,>=2.5 in /usr/local/lib/python3.10/dist-packages (from requests<3.0,>=2.0->wbdata) (3.7)\n",
            "Requirement already satisfied: urllib3<3,>=1.21.1 in /usr/local/lib/python3.10/dist-packages (from requests<3.0,>=2.0->wbdata) (2.0.7)\n",
            "Requirement already satisfied: certifi>=2017.4.17 in /usr/local/lib/python3.10/dist-packages (from requests<3.0,>=2.0->wbdata) (2024.2.2)\n",
            "Requirement already satisfied: six>=1.5 in /usr/local/lib/python3.10/dist-packages (from python-dateutil->dateparser<2.0.0,>=1.2.0->wbdata) (1.16.0)\n"
          ]
        }
      ]
    },
    {
      "cell_type": "code",
      "source": [
        "import wbdata\n",
        "import yfinance as yf\n",
        "import pandas as pd\n",
        "import datetime\n",
        "\n",
        "# Define the World Bank indicators\n",
        "wb_indicators = {\n",
        "    'NY.GDP.MKTP.KD.ZG': 'GDP Growth (annual %)',\n",
        "    'FR.INR.RINR': 'Real Interest Rate (%)'\n",
        "}\n",
        "\n",
        "# Define the time period for data extraction\n",
        "start_date = datetime.datetime(2013, 1, 1)\n",
        "end_date = datetime.datetime(2023, 12, 31)\n",
        "\n",
        "# Fetch data from the World Bank for the world ('WLD')\n",
        "wb_data = wbdata.get_dataframe(wb_indicators, country='WLD')\n",
        "\n",
        "# Convert the index to datetime format\n",
        "wb_data.index = pd.to_datetime(wb_data.index)\n",
        "\n",
        "# Filter data for the specified date range\n",
        "wb_data = wb_data[(wb_data.index >= start_date) & (wb_data.index <= end_date)]\n",
        "\n",
        "# Reset the index to move the date from the index to a column\n",
        "wb_data.reset_index(inplace=True)\n",
        "\n",
        "# Rename the index column to \"Date\" (Since it's coming from the dataframe index)\n",
        "wb_data.rename(columns={'date': 'Date'}, inplace=True)\n",
        "\n",
        "# Save the World Bank data to a CSV file\n",
        "wb_data.to_csv('world_bank_global_data.csv', index=False)\n",
        "\n",
        "# Display the first few rows of the World Bank data\n",
        "print(wb_data.head())\n",
        "\n",
        "# Fetch daily financial data (Oil, Gold, Exchange Rates) from Yahoo Finance\n",
        "tickers = {\n",
        "    'Oil': 'CL=F',\n",
        "    'Gold': 'GC=F',\n",
        "    'USD/INR': 'INR=X',\n",
        "    'EUR/INR': 'EURINR=X'\n",
        "}\n",
        "\n",
        "financial_data = {}\n",
        "\n",
        "for name, ticker in tickers.items():\n",
        "    df = yf.download(ticker, start='2013-01-01', end='2023-12-31', interval='1d')\n",
        "    financial_data[name] = df['Close']\n",
        "\n",
        "# Combine the financial data into a single DataFrame\n",
        "financial_df = pd.DataFrame(financial_data)\n",
        "\n",
        "# Save the financial data to a CSV file\n",
        "financial_df.to_csv('financial_data.csv')\n",
        "\n",
        "# Display the first few rows of the financial data\n",
        "print(financial_df.head())\n"
      ],
      "metadata": {
        "colab": {
          "base_uri": "https://localhost:8080/"
        },
        "id": "esav0gHV-boT",
        "outputId": "58e1ea82-19af-4e1c-ed7f-fdbd50fd1caa"
      },
      "execution_count": 3,
      "outputs": [
        {
          "output_type": "stream",
          "name": "stderr",
          "text": [
            "\r[*********************100%%**********************]  1 of 1 completed"
          ]
        },
        {
          "output_type": "stream",
          "name": "stdout",
          "text": [
            "        Date  GDP Growth (annual %) Real Interest Rate (%)\n",
            "0 2023-01-01                    NaN                   None\n",
            "1 2022-01-01               3.089379                   None\n",
            "2 2021-01-01               6.228594                   None\n",
            "3 2020-01-01              -3.057810                   None\n",
            "4 2019-01-01               2.590785                   None\n"
          ]
        },
        {
          "output_type": "stream",
          "name": "stderr",
          "text": [
            "\n",
            "[*********************100%%**********************]  1 of 1 completed\n",
            "[*********************100%%**********************]  1 of 1 completed\n",
            "[*********************100%%**********************]  1 of 1 completed\n"
          ]
        },
        {
          "output_type": "stream",
          "name": "stdout",
          "text": [
            "                  Oil         Gold    USD/INR    EUR/INR\n",
            "Date                                                    \n",
            "2013-01-01        NaN          NaN  54.993000  72.512001\n",
            "2013-01-02  93.120003  1687.900024  54.678001  72.093002\n",
            "2013-01-03  92.919998  1673.699951  54.348000  71.573997\n",
            "2013-01-04  93.089996  1648.099976  54.498001  70.904999\n",
            "2013-01-07  93.190002  1645.500000  54.880001  71.723000\n"
          ]
        }
      ]
    },
    {
      "cell_type": "code",
      "source": [
        "import wbdata\n",
        "import pandas as pd\n",
        "import datetime\n",
        "\n",
        "# Define the World Bank indicators\n",
        "wb_indicators = {\n",
        "    'NY.GDP.MKTP.KD.ZG': 'GDP Growth (annual %)',\n",
        "    'FP.CPI.TOTL': 'Consumer Price Index (CPI)',\n",
        "    'NY.GDP.PCAP.KD.ZG': 'Industrial Production Index'\n",
        "}\n",
        "\n",
        "# Define the time period for data extraction\n",
        "start_date = datetime.datetime(2013, 1, 1)\n",
        "end_date = datetime.datetime(2023, 12, 31)\n",
        "\n",
        "# Fetch data from the World Bank for India ('IN')\n",
        "wb_data = wbdata.get_dataframe(wb_indicators, country='IN')\n",
        "\n",
        "# Convert the index to datetime format\n",
        "wb_data.index = pd.to_datetime(wb_data.index)\n",
        "\n",
        "# Filter data for the specified date range\n",
        "wb_data = wb_data[(wb_data.index >= start_date) & (wb_data.index <= end_date)]\n",
        "\n",
        "# Reset the index to move the date from the index to a column\n",
        "wb_data.reset_index(inplace=True)\n",
        "\n",
        "# Rename the index column to \"Date\" (Since it's coming from the dataframe index)\n",
        "wb_data.rename(columns={'date': 'Date'}, inplace=True)\n",
        "\n",
        "# Save the World Bank data to a CSV file\n",
        "wb_data.to_csv('world_bank_india_data.csv', index=False)\n",
        "\n",
        "# Display the first few rows of the World Bank data\n",
        "print(wb_data.head())\n"
      ],
      "metadata": {
        "colab": {
          "base_uri": "https://localhost:8080/"
        },
        "id": "LhpmlqgoX8SR",
        "outputId": "04377f59-ca89-4b0f-8bc1-5aac8e825dba"
      },
      "execution_count": 4,
      "outputs": [
        {
          "output_type": "stream",
          "name": "stdout",
          "text": [
            "        Date  GDP Growth (annual %)  Consumer Price Index (CPI)  \\\n",
            "0 2023-01-01                    NaN                         NaN   \n",
            "1 2022-01-01               7.239693                  205.266241   \n",
            "2 2021-01-01               9.050278                  192.378725   \n",
            "3 2020-01-01              -5.831053                  182.988823   \n",
            "4 2019-01-01               3.871437                  171.621576   \n",
            "\n",
            "   Industrial Production Index  \n",
            "0                          NaN  \n",
            "1                     6.512540  \n",
            "2                     8.184368  \n",
            "3                    -6.726292  \n",
            "4                     2.811873  \n"
          ]
        }
      ]
    },
    {
      "cell_type": "code",
      "source": [
        "pip install requests beautifulsoup4 pandas\n"
      ],
      "metadata": {
        "colab": {
          "base_uri": "https://localhost:8080/"
        },
        "id": "7SKKqxJkZlN9",
        "outputId": "f1ae67e3-7620-40eb-85c1-d6105240aa8d"
      },
      "execution_count": 5,
      "outputs": [
        {
          "output_type": "stream",
          "name": "stdout",
          "text": [
            "Requirement already satisfied: requests in /usr/local/lib/python3.10/dist-packages (2.31.0)\n",
            "Requirement already satisfied: beautifulsoup4 in /usr/local/lib/python3.10/dist-packages (4.12.3)\n",
            "Requirement already satisfied: pandas in /usr/local/lib/python3.10/dist-packages (2.0.3)\n",
            "Requirement already satisfied: charset-normalizer<4,>=2 in /usr/local/lib/python3.10/dist-packages (from requests) (3.3.2)\n",
            "Requirement already satisfied: idna<4,>=2.5 in /usr/local/lib/python3.10/dist-packages (from requests) (3.7)\n",
            "Requirement already satisfied: urllib3<3,>=1.21.1 in /usr/local/lib/python3.10/dist-packages (from requests) (2.0.7)\n",
            "Requirement already satisfied: certifi>=2017.4.17 in /usr/local/lib/python3.10/dist-packages (from requests) (2024.2.2)\n",
            "Requirement already satisfied: soupsieve>1.2 in /usr/local/lib/python3.10/dist-packages (from beautifulsoup4) (2.5)\n",
            "Requirement already satisfied: python-dateutil>=2.8.2 in /usr/local/lib/python3.10/dist-packages (from pandas) (2.8.2)\n",
            "Requirement already satisfied: pytz>=2020.1 in /usr/local/lib/python3.10/dist-packages (from pandas) (2023.4)\n",
            "Requirement already satisfied: tzdata>=2022.1 in /usr/local/lib/python3.10/dist-packages (from pandas) (2024.1)\n",
            "Requirement already satisfied: numpy>=1.21.0 in /usr/local/lib/python3.10/dist-packages (from pandas) (1.25.2)\n",
            "Requirement already satisfied: six>=1.5 in /usr/local/lib/python3.10/dist-packages (from python-dateutil>=2.8.2->pandas) (1.16.0)\n"
          ]
        }
      ]
    },
    {
      "cell_type": "code",
      "source": [
        "import requests\n",
        "from bs4 import BeautifulSoup\n",
        "import pandas as pd\n",
        "\n",
        "# Function to scrape data from a given URL and parse the table\n",
        "def scrape_rbi_table(url, table_class):\n",
        "    response = requests.get(url)\n",
        "    soup = BeautifulSoup(response.text, 'html.parser')\n",
        "    table = soup.find('table', {'class': table_class})\n",
        "    data = []\n",
        "\n",
        "    if table:\n",
        "        rows = table.find_all('tr')\n",
        "        for row in rows:\n",
        "            cols = row.find_all('td')\n",
        "            cols = [ele.text.strip() for ele in cols if ele.text.strip()]\n",
        "            if cols:\n",
        "                data.append(cols)\n",
        "\n",
        "    return data\n",
        "\n",
        "# URLs and table classes for different data\n",
        "urls = {\n",
        "    'GDP Growth Rate': 'https://www.rbi.org.in/Scripts/BS_PressReleaseDisplay.aspx?prid=51109',  # Example URL\n",
        "    'Repo Rate': 'https://www.rbi.org.in/Scripts/WSSView.aspx?Id=2021',  # Example URL\n",
        "    'CPI': 'https://www.rbi.org.in/Scripts/PublicationsView.aspx?id=2020',  # Example URL\n",
        "    'WPI': 'https://www.rbi.org.in/Scripts/PublicationsView.aspx?id=2019',  # Example URL\n",
        "    'Industrial Production Index': 'https://www.rbi.org.in/Scripts/PublicationsView.aspx?id=2022'  # Example URL\n",
        "}\n",
        "\n",
        "table_classes = {\n",
        "    'GDP Growth Rate': 'statisticsTable',\n",
        "    'Repo Rate': 'statisticsTable',\n",
        "    'CPI': 'statisticsTable',\n",
        "    'WPI': 'statisticsTable',\n",
        "    'Industrial Production Index': 'statisticsTable'\n",
        "}\n",
        "\n",
        "# Dictionary to store data\n",
        "rbi_data = {}\n",
        "\n",
        "# Scrape data for each indicator\n",
        "for indicator, url in urls.items():\n",
        "    table_class = table_classes[indicator]\n",
        "    data = scrape_rbi_table(url, table_class)\n",
        "    rbi_data[indicator] = data\n",
        "\n",
        "# Convert the data into DataFrames and save as CSV\n",
        "for indicator, data in rbi_data.items():\n",
        "    if data:\n",
        "        df = pd.DataFrame(data)\n",
        "        df.to_csv(f'{indicator.lower().replace(\" \", \"_\")}.csv', index=False)\n",
        "        print(f'{indicator} data saved to CSV:')\n",
        "        print(df.head(), \"\\n\")\n",
        "    else:\n",
        "        print(f'No data found for {indicator}')\n",
        "\n"
      ],
      "metadata": {
        "colab": {
          "base_uri": "https://localhost:8080/"
        },
        "id": "HvjxLBY1Zxs6",
        "outputId": "105a71ef-405f-4a55-9d68-572207e68f36"
      },
      "execution_count": 6,
      "outputs": [
        {
          "output_type": "stream",
          "name": "stdout",
          "text": [
            "No data found for GDP Growth Rate\n",
            "No data found for Repo Rate\n",
            "No data found for CPI\n",
            "No data found for WPI\n",
            "No data found for Industrial Production Index\n"
          ]
        }
      ]
    },
    {
      "cell_type": "code",
      "source": [],
      "metadata": {
        "id": "lIsgZr3eactD"
      },
      "execution_count": 6,
      "outputs": []
    }
  ]
}